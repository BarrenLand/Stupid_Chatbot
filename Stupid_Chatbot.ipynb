{
  "nbformat": 4,
  "nbformat_minor": 0,
  "metadata": {
    "colab": {
      "provenance": [],
      "authorship_tag": "ABX9TyMJjsT+uqZENz2V1GQqO4Yh",
      "include_colab_link": true
    },
    "kernelspec": {
      "name": "python3",
      "display_name": "Python 3"
    },
    "language_info": {
      "name": "python"
    }
  },
  "cells": [
    {
      "cell_type": "markdown",
      "metadata": {
        "id": "view-in-github",
        "colab_type": "text"
      },
      "source": [
        "<a href=\"https://colab.research.google.com/github/BarrenLand/Stupid_Chatbot/blob/main/Stupid_Chatbot.ipynb\" target=\"_parent\"><img src=\"https://colab.research.google.com/assets/colab-badge.svg\" alt=\"Open In Colab\"/></a>"
      ]
    },
    {
      "cell_type": "code",
      "execution_count": null,
      "metadata": {
        "id": "2P4zGRh6ld47"
      },
      "outputs": [],
      "source": [
        "import time\n",
        "import datetime\n",
        "\n",
        "colors = [\n",
        "    \"\\033[91m\",  # merah\n",
        "    \"\\033[92m\",  # hijau\n",
        "    \"\\033[93m\",  # kuning\n",
        "    \"\\033[94m\",  # biru\n",
        "    \"\\033[95m\",  # ungu\n",
        "    \"\\033[96m\",  # cyan\n",
        "]\n",
        "reset = \"\\033[0m\"\n",
        "\n",
        "text = \"Selamat datang di ChatBot sederhana saya!\"\n",
        "\n",
        "for i, char in enumerate(text):\n",
        "    color = colors[i % len(colors)]\n",
        "    print(color + char + reset, end=\"\", flush=True)\n",
        "    time.sleep(0.05)\n",
        "\n",
        "print(\"\\n\")\n",
        "\n",
        "time.sleep(1.5)\n",
        "print(\"Kamu tahu hari ini tanggal berapa?\")\n",
        "time.sleep(2)\n",
        "now = datetime.datetime.now()\n",
        "print(\"Hari  ini adalah\", now.strftime(\"%A, %d %B %Y, %H:%M:%S\"))\n",
        "time.sleep(2)\n",
        "\n",
        "n=input(\"Siapa nama kamu? \")\n",
        "print(n+\" Nama yang bagus, ya!\")\n",
        "time.sleep(1.5)\n",
        "\n",
        "k=input(\"Kamu kelas berapa? \")\n",
        "\n",
        "cleaned_input = k.lower()\n",
        "time.sleep(1.5)\n",
        "\n",
        "if \"7\" in cleaned_input:\n",
        "    print(\"Kelas 7? Selamat datang di SMP Al-Quran Wahdah Islamiyah Cibinong!\")\n",
        "elif \"8\" in cleaned_input:\n",
        "    print(\"Wah, ternyata kamu kelas 8 ya...\")\n",
        "elif \"9\" in cleaned_input:\n",
        "    print(\"Senior? Semangat mengejar kelulusan ya\")\n",
        "else:\n",
        "    print(\"Oh ternyata kamu bukan anak SMP, ya...\")\n",
        "time.sleep(1.5)\n",
        "\n",
        "h=input(\"Hobby kamu apa? \")\n",
        "print(\"Oh hobby kamu \" + h + \" ya?\")\n",
        "time.sleep(1.5)\n",
        "\n",
        "m=input(\"Makanan favorit kamu apa? \")\n",
        "print(\"Wow \" + m + \" itu enak juga menurutku!\")\n",
        "time.sleep(1.5)\n",
        "\n",
        "i=input(\"Minuman kesukaanmu? \")\n",
        "print(\"Sepertinya \" + i + \" itu enak juga...\")\n",
        "time.sleep(1.5)\n",
        "\n",
        "print(\"Berarti nama kamu \" + n + \".\")\n",
        "time.sleep(1.5)\n",
        "\n",
        "print(\"Kamu kelas \" + k + \".\")\n",
        "time.sleep(1.5)\n",
        "\n",
        "print(\"Hobby kamu itu \" + h + \".\")\n",
        "time.sleep(1.5)\n",
        "\n",
        "print(\"Makanan favorit kamu itu \" + m + \".\")\n",
        "time.sleep(1.5)\n",
        "\n",
        "print(\"Minuman kesukaanmu itu \" + i + \".\")\n",
        "time.sleep(1.5)"
      ]
    },
    {
      "cell_type": "code",
      "source": [
        "import time\n",
        "\n",
        "print(\"selamat datang di sq wahdah \")\n",
        "n=input(\"nama kamu siapa \")\n",
        "print( n+\" nama yang baguss\")\n",
        "time.sleep(1.5)\n",
        "\n",
        "k=input(\"kamu kelas berapa? \")\n",
        "\n",
        "cleaned_input = k.lower()\n",
        "time.sleep(1)\n",
        "if \"10\" in cleaned_input:\n",
        "  print(\"selamat datang di sq wahdah, semoga kamu betah disini\")\n",
        "elif \"11\" in cleaned_input:\n",
        "  print(\"wahh selamat kamu akan jadi pengurus osis, selamat bertugas!\")\n",
        "elif \"12\" in cleaned_input:\n",
        "  print(\"bentar lagi lulus, semangat mengejar kampus impian yaa\")\n",
        "else:\n",
        "  print(\"wahh kamu bukan SMA ternyata...\")\n",
        "time.sleep(1.5)\n",
        "\n",
        "\n",
        "h=input(\"hobi kamu apa? \")\n",
        "print(\"jadi hobi kamu itu \" + h +\" ya?,hobi yang bagus\")\n",
        "time.sleep(1.5)\n",
        "\n",
        "m=input(\"makanan kesukaan kamu apa? \")\n",
        "print(\"wahh tenyata kamu juga suka \" + m + \" kita samaan dong\")\n",
        "time.sleep(1.5)\n",
        "\n",
        "n=input(\"bagaimana kalau minuman kesukaan kamu? \")\n",
        "print(\"kamu suka \" + n + \" ternyata,  itu lumayan enak sihh\")\n",
        "time.sleep(1.5)\n",
        "\n",
        "print(\"senang berbicara dengan kamu, semoga kamu betah disini ya! by Irul Kelas XI\")"
      ],
      "metadata": {
        "id": "jt4IaEl4safp"
      },
      "execution_count": null,
      "outputs": []
    }
  ]
}