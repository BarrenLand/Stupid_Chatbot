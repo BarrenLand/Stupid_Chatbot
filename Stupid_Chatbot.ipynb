import time
import datetime

colors = [
    "\033[91m",  # merah
    "\033[92m",  # hijau
    "\033[93m",  # kuning
    "\033[94m",  # biru
    "\033[95m",  # ungu
    "\033[96m",  # cyan
]
reset = "\033[0m"

text = "Selamat datang di ChatBot sederhana saya!"

for i, char in enumerate(text):
    color = colors[i % len(colors)]
    print(color + char + reset, end="", flush=True)
    time.sleep(0.05)

print("\n")

time.sleep(1.5)
print("Kamu tahu hari ini tanggal berapa?")
time.sleep(2)
now = datetime.datetime.now()
print("Hari  ini adalah", now.strftime("%A, %d %B %Y, %H:%M:%S"))
time.sleep(2)

n=input("Siapa nama kamu? ")
print(n+" Nama yang bagus, ya!")
time.sleep(1.5)

k=input("Kamu kelas berapa? ")

cleaned_input = k.lower()
time.sleep(1.5)

if "7" in cleaned_input:
    print("Kelas 7? Selamat datang di SMP Al-Quran Wahdah Islamiyah Cibinong!")
elif "8" in cleaned_input:
    print("Wah, ternyata kamu kelas 8 ya...")
elif "9" in cleaned_input:
    print("Senior? Semangat mengejar kelulusan ya")
else:
    print("Oh ternyata kamu bukan anak SMP, ya...")
time.sleep(1.5)

h=input("Hobby kamu apa? ")
print("Oh hobby kamu " + h + " ya?")
time.sleep(1.5)

m=input("Makanan favorit kamu apa? ")
print("Wow " + m + " itu enak juga menurutku!")
time.sleep(1.5)

i=input("Minuman kesukaanmu? ")
print("Sepertinya " + i + " itu enak juga...")
time.sleep(1.5)

print("Berarti nama kamu " + n + ".")
time.sleep(1.5)

print("Kamu kelas " + k + ".")
time.sleep(1.5)

print("Hobby kamu itu " + h + ".")
time.sleep(1.5)

print("Makanan favorit kamu itu " + m + ".")
time.sleep(1.5)

print("Minuman kesukaanmu itu " + i + ".")
time.sleep(1.5)
